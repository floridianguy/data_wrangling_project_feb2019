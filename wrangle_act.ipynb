{
 "cells": [
  {
   "cell_type": "code",
   "execution_count": 1,
   "metadata": {},
   "outputs": [],
   "source": [
    "import numpy as np\n",
    "import pandas as pd\n",
    "import matplotlib.pyplot as plt\n",
    "import requests\n",
    "import tweepy\n",
    "import json\n",
    "import re\n",
    "import os\n",
    "import sys"
   ]
  },
  {
   "cell_type": "markdown",
   "metadata": {},
   "source": [
    "### Data Gathering, Part 1: Twitter archive"
   ]
  },
  {
   "cell_type": "code",
   "execution_count": 2,
   "metadata": {},
   "outputs": [],
   "source": [
    "df1 = pd.read_csv('twitter-archive-enhanced.csv')"
   ]
  },
  {
   "cell_type": "code",
   "execution_count": 3,
   "metadata": {},
   "outputs": [
    {
     "data": {
      "text/plain": [
       "(2356, 17)"
      ]
     },
     "execution_count": 3,
     "metadata": {},
     "output_type": "execute_result"
    }
   ],
   "source": [
    "df1.shape"
   ]
  },
  {
   "cell_type": "code",
   "execution_count": 4,
   "metadata": {},
   "outputs": [
    {
     "data": {
      "text/plain": [
       "2349"
      ]
     },
     "execution_count": 4,
     "metadata": {},
     "output_type": "execute_result"
    }
   ],
   "source": [
    "# Let's check how many unique tweet ID's are included in this data set.\n",
    "df1['tweet_id'].nunique()"
   ]
  },
  {
   "cell_type": "code",
   "execution_count": 5,
   "metadata": {},
   "outputs": [
    {
     "data": {
      "text/plain": [
       "Index(['tweet_id', 'in_reply_to_status_id', 'in_reply_to_user_id', 'timestamp',\n",
       "       'source', 'text', 'retweeted_status_id', 'retweeted_status_user_id',\n",
       "       'retweeted_status_timestamp', 'expanded_urls', 'rating_numerator',\n",
       "       'rating_denominator', 'name', 'doggo', 'floofer', 'pupper', 'puppo'],\n",
       "      dtype='object')"
      ]
     },
     "execution_count": 5,
     "metadata": {},
     "output_type": "execute_result"
    }
   ],
   "source": [
    "df1.columns"
   ]
  },
  {
   "cell_type": "code",
   "execution_count": 6,
   "metadata": {},
   "outputs": [
    {
     "data": {
      "text/html": [
       "<div>\n",
       "<style scoped>\n",
       "    .dataframe tbody tr th:only-of-type {\n",
       "        vertical-align: middle;\n",
       "    }\n",
       "\n",
       "    .dataframe tbody tr th {\n",
       "        vertical-align: top;\n",
       "    }\n",
       "\n",
       "    .dataframe thead th {\n",
       "        text-align: right;\n",
       "    }\n",
       "</style>\n",
       "<table border=\"1\" class=\"dataframe\">\n",
       "  <thead>\n",
       "    <tr style=\"text-align: right;\">\n",
       "      <th></th>\n",
       "      <th>tweet_id</th>\n",
       "      <th>in_reply_to_status_id</th>\n",
       "      <th>in_reply_to_user_id</th>\n",
       "      <th>timestamp</th>\n",
       "      <th>source</th>\n",
       "      <th>text</th>\n",
       "      <th>retweeted_status_id</th>\n",
       "      <th>retweeted_status_user_id</th>\n",
       "      <th>retweeted_status_timestamp</th>\n",
       "      <th>expanded_urls</th>\n",
       "      <th>rating_numerator</th>\n",
       "      <th>rating_denominator</th>\n",
       "      <th>name</th>\n",
       "      <th>doggo</th>\n",
       "      <th>floofer</th>\n",
       "      <th>pupper</th>\n",
       "      <th>puppo</th>\n",
       "    </tr>\n",
       "  </thead>\n",
       "  <tbody>\n",
       "    <tr>\n",
       "      <th>0</th>\n",
       "      <td>8.924210e+17</td>\n",
       "      <td>NaN</td>\n",
       "      <td>NaN</td>\n",
       "      <td>2017-08-01 16:23:56 +0000</td>\n",
       "      <td>&lt;a href=\"http://twitter.com/download/iphone\" r...</td>\n",
       "      <td>This is Phineas. He's a mystical boy. Only eve...</td>\n",
       "      <td>NaN</td>\n",
       "      <td>NaN</td>\n",
       "      <td>NaN</td>\n",
       "      <td>https://twitter.com/dog_rates/status/892420643...</td>\n",
       "      <td>13</td>\n",
       "      <td>10</td>\n",
       "      <td>Phineas</td>\n",
       "      <td>None</td>\n",
       "      <td>None</td>\n",
       "      <td>None</td>\n",
       "      <td>None</td>\n",
       "    </tr>\n",
       "    <tr>\n",
       "      <th>1</th>\n",
       "      <td>8.921770e+17</td>\n",
       "      <td>NaN</td>\n",
       "      <td>NaN</td>\n",
       "      <td>2017-08-01 00:17:27 +0000</td>\n",
       "      <td>&lt;a href=\"http://twitter.com/download/iphone\" r...</td>\n",
       "      <td>This is Tilly. She's just checking pup on you....</td>\n",
       "      <td>NaN</td>\n",
       "      <td>NaN</td>\n",
       "      <td>NaN</td>\n",
       "      <td>https://twitter.com/dog_rates/status/892177421...</td>\n",
       "      <td>13</td>\n",
       "      <td>10</td>\n",
       "      <td>Tilly</td>\n",
       "      <td>None</td>\n",
       "      <td>None</td>\n",
       "      <td>None</td>\n",
       "      <td>None</td>\n",
       "    </tr>\n",
       "    <tr>\n",
       "      <th>2</th>\n",
       "      <td>8.918150e+17</td>\n",
       "      <td>NaN</td>\n",
       "      <td>NaN</td>\n",
       "      <td>2017-07-31 00:18:03 +0000</td>\n",
       "      <td>&lt;a href=\"http://twitter.com/download/iphone\" r...</td>\n",
       "      <td>This is Archie. He is a rare Norwegian Pouncin...</td>\n",
       "      <td>NaN</td>\n",
       "      <td>NaN</td>\n",
       "      <td>NaN</td>\n",
       "      <td>https://twitter.com/dog_rates/status/891815181...</td>\n",
       "      <td>12</td>\n",
       "      <td>10</td>\n",
       "      <td>Archie</td>\n",
       "      <td>None</td>\n",
       "      <td>None</td>\n",
       "      <td>None</td>\n",
       "      <td>None</td>\n",
       "    </tr>\n",
       "    <tr>\n",
       "      <th>3</th>\n",
       "      <td>8.916900e+17</td>\n",
       "      <td>NaN</td>\n",
       "      <td>NaN</td>\n",
       "      <td>2017-07-30 15:58:51 +0000</td>\n",
       "      <td>&lt;a href=\"http://twitter.com/download/iphone\" r...</td>\n",
       "      <td>This is Darla. She commenced a snooze mid meal...</td>\n",
       "      <td>NaN</td>\n",
       "      <td>NaN</td>\n",
       "      <td>NaN</td>\n",
       "      <td>https://twitter.com/dog_rates/status/891689557...</td>\n",
       "      <td>13</td>\n",
       "      <td>10</td>\n",
       "      <td>Darla</td>\n",
       "      <td>None</td>\n",
       "      <td>None</td>\n",
       "      <td>None</td>\n",
       "      <td>None</td>\n",
       "    </tr>\n",
       "    <tr>\n",
       "      <th>4</th>\n",
       "      <td>8.913280e+17</td>\n",
       "      <td>NaN</td>\n",
       "      <td>NaN</td>\n",
       "      <td>2017-07-29 16:00:24 +0000</td>\n",
       "      <td>&lt;a href=\"http://twitter.com/download/iphone\" r...</td>\n",
       "      <td>This is Franklin. He would like you to stop ca...</td>\n",
       "      <td>NaN</td>\n",
       "      <td>NaN</td>\n",
       "      <td>NaN</td>\n",
       "      <td>https://twitter.com/dog_rates/status/891327558...</td>\n",
       "      <td>12</td>\n",
       "      <td>10</td>\n",
       "      <td>Franklin</td>\n",
       "      <td>None</td>\n",
       "      <td>None</td>\n",
       "      <td>None</td>\n",
       "      <td>None</td>\n",
       "    </tr>\n",
       "  </tbody>\n",
       "</table>\n",
       "</div>"
      ],
      "text/plain": [
       "       tweet_id  in_reply_to_status_id  in_reply_to_user_id  \\\n",
       "0  8.924210e+17                    NaN                  NaN   \n",
       "1  8.921770e+17                    NaN                  NaN   \n",
       "2  8.918150e+17                    NaN                  NaN   \n",
       "3  8.916900e+17                    NaN                  NaN   \n",
       "4  8.913280e+17                    NaN                  NaN   \n",
       "\n",
       "                   timestamp  \\\n",
       "0  2017-08-01 16:23:56 +0000   \n",
       "1  2017-08-01 00:17:27 +0000   \n",
       "2  2017-07-31 00:18:03 +0000   \n",
       "3  2017-07-30 15:58:51 +0000   \n",
       "4  2017-07-29 16:00:24 +0000   \n",
       "\n",
       "                                              source  \\\n",
       "0  <a href=\"http://twitter.com/download/iphone\" r...   \n",
       "1  <a href=\"http://twitter.com/download/iphone\" r...   \n",
       "2  <a href=\"http://twitter.com/download/iphone\" r...   \n",
       "3  <a href=\"http://twitter.com/download/iphone\" r...   \n",
       "4  <a href=\"http://twitter.com/download/iphone\" r...   \n",
       "\n",
       "                                                text  retweeted_status_id  \\\n",
       "0  This is Phineas. He's a mystical boy. Only eve...                  NaN   \n",
       "1  This is Tilly. She's just checking pup on you....                  NaN   \n",
       "2  This is Archie. He is a rare Norwegian Pouncin...                  NaN   \n",
       "3  This is Darla. She commenced a snooze mid meal...                  NaN   \n",
       "4  This is Franklin. He would like you to stop ca...                  NaN   \n",
       "\n",
       "   retweeted_status_user_id retweeted_status_timestamp  \\\n",
       "0                       NaN                        NaN   \n",
       "1                       NaN                        NaN   \n",
       "2                       NaN                        NaN   \n",
       "3                       NaN                        NaN   \n",
       "4                       NaN                        NaN   \n",
       "\n",
       "                                       expanded_urls  rating_numerator  \\\n",
       "0  https://twitter.com/dog_rates/status/892420643...                13   \n",
       "1  https://twitter.com/dog_rates/status/892177421...                13   \n",
       "2  https://twitter.com/dog_rates/status/891815181...                12   \n",
       "3  https://twitter.com/dog_rates/status/891689557...                13   \n",
       "4  https://twitter.com/dog_rates/status/891327558...                12   \n",
       "\n",
       "   rating_denominator      name doggo floofer pupper puppo  \n",
       "0                  10   Phineas  None    None   None  None  \n",
       "1                  10     Tilly  None    None   None  None  \n",
       "2                  10    Archie  None    None   None  None  \n",
       "3                  10     Darla  None    None   None  None  \n",
       "4                  10  Franklin  None    None   None  None  "
      ]
     },
     "execution_count": 6,
     "metadata": {},
     "output_type": "execute_result"
    }
   ],
   "source": [
    "df1.head()"
   ]
  },
  {
   "cell_type": "code",
   "execution_count": 7,
   "metadata": {},
   "outputs": [
    {
     "name": "stdout",
     "output_type": "stream",
     "text": [
      "<class 'pandas.core.frame.DataFrame'>\n",
      "RangeIndex: 2356 entries, 0 to 2355\n",
      "Data columns (total 17 columns):\n",
      "tweet_id                      2356 non-null float64\n",
      "in_reply_to_status_id         78 non-null float64\n",
      "in_reply_to_user_id           78 non-null float64\n",
      "timestamp                     2356 non-null object\n",
      "source                        2356 non-null object\n",
      "text                          2356 non-null object\n",
      "retweeted_status_id           181 non-null float64\n",
      "retweeted_status_user_id      181 non-null float64\n",
      "retweeted_status_timestamp    181 non-null object\n",
      "expanded_urls                 2297 non-null object\n",
      "rating_numerator              2356 non-null int64\n",
      "rating_denominator            2356 non-null int64\n",
      "name                          2356 non-null object\n",
      "doggo                         2356 non-null object\n",
      "floofer                       2356 non-null object\n",
      "pupper                        2356 non-null object\n",
      "puppo                         2356 non-null object\n",
      "dtypes: float64(5), int64(2), object(10)\n",
      "memory usage: 313.0+ KB\n"
     ]
    }
   ],
   "source": [
    "df1.info()"
   ]
  },
  {
   "cell_type": "code",
   "execution_count": 8,
   "metadata": {},
   "outputs": [
    {
     "name": "stdout",
     "output_type": "stream",
     "text": [
      "['None' 'doggo']\n",
      "['None' 'floofer']\n"
     ]
    }
   ],
   "source": [
    "print(df1.doggo.unique())\n",
    "print(df1.floofer.unique())"
   ]
  },
  {
   "cell_type": "code",
   "execution_count": 9,
   "metadata": {},
   "outputs": [
    {
     "name": "stdout",
     "output_type": "stream",
     "text": [
      "None     2259\n",
      "doggo      97\n",
      "Name: doggo, dtype: int64\n",
      "None       2346\n",
      "floofer      10\n",
      "Name: floofer, dtype: int64\n",
      "None      2099\n",
      "pupper     257\n",
      "Name: pupper, dtype: int64\n",
      "None     2326\n",
      "puppo      30\n",
      "Name: puppo, dtype: int64\n"
     ]
    }
   ],
   "source": [
    "print(df1.doggo.value_counts())\n",
    "print(df1.floofer.value_counts())\n",
    "print(df1.pupper.value_counts())\n",
    "print(df1.puppo.value_counts())"
   ]
  },
  {
   "cell_type": "code",
   "execution_count": 10,
   "metadata": {},
   "outputs": [
    {
     "data": {
      "text/plain": [
       "0"
      ]
     },
     "execution_count": 10,
     "metadata": {},
     "output_type": "execute_result"
    }
   ],
   "source": [
    "df1.duplicated().sum()"
   ]
  },
  {
   "cell_type": "code",
   "execution_count": 11,
   "metadata": {},
   "outputs": [
    {
     "data": {
      "text/plain": [
       "0"
      ]
     },
     "execution_count": 11,
     "metadata": {},
     "output_type": "execute_result"
    }
   ],
   "source": [
    "# The 'text' column appears to the be the only column with no duplicates.\n",
    "df1['text'].duplicated().sum()"
   ]
  },
  {
   "cell_type": "markdown",
   "metadata": {},
   "source": [
    "### Data Gathering, Part 2: Image Predictions archive"
   ]
  },
  {
   "cell_type": "code",
   "execution_count": 12,
   "metadata": {},
   "outputs": [],
   "source": [
    "# Import of image predictions file.\n",
    "predicted_breeds_url = 'https://d17h27t6h515a5.cloudfront.net/topher/2017/August/599fd2ad_image-predictions/image-predictions.tsv'\n",
    "response = requests.get(predicted_breeds_url)\n",
    "with open('image_predictions.tsv', 'wb') as f:\n",
    "    f.write(response.content)"
   ]
  },
  {
   "cell_type": "code",
   "execution_count": 13,
   "metadata": {},
   "outputs": [],
   "source": [
    "df2 = pd.read_csv('image_predictions.tsv', sep='\\t')"
   ]
  },
  {
   "cell_type": "markdown",
   "metadata": {},
   "source": [
    "#### The following items are explanations of the image predictions as provided by Udacity:\n",
    "\n",
    "- tweet_id is the last part of the tweet URL after \"status/\" →   https://twitter.com/dog_rates/status/889531135344209921\n",
    "\n",
    "\n",
    "- p1 is the algorithm's #1 prediction for the image in the tweet → golden retriever\n",
    "\n",
    "\n",
    "- p1_conf is how confident the algorithm is in its #1 prediction → 95%\n",
    "\n",
    "\n",
    "- p1_dog is whether or not the #1 prediction is a breed of dog → TRUE\n",
    "\n",
    "\n",
    "- p2 is the algorithm's second most likely prediction → Labrador retriever\n",
    "\n",
    "\n",
    "- p2_conf is how confident the algorithm is in its #2 prediction → 1%\n",
    "\n",
    "\n",
    "- p2_dog is whether or not the #2 prediction is a breed of dog → TRUE"
   ]
  },
  {
   "cell_type": "code",
   "execution_count": 14,
   "metadata": {},
   "outputs": [
    {
     "data": {
      "text/plain": [
       "(2075, 12)"
      ]
     },
     "execution_count": 14,
     "metadata": {},
     "output_type": "execute_result"
    }
   ],
   "source": [
    "df2.shape"
   ]
  },
  {
   "cell_type": "code",
   "execution_count": 15,
   "metadata": {},
   "outputs": [
    {
     "name": "stdout",
     "output_type": "stream",
     "text": [
      "True     1532\n",
      "False     543\n",
      "Name: p1_dog, dtype: int64\n",
      "True     1553\n",
      "False     522\n",
      "Name: p2_dog, dtype: int64\n",
      "True     1499\n",
      "False     576\n",
      "Name: p3_dog, dtype: int64\n"
     ]
    }
   ],
   "source": [
    "print(df2.p1_dog.value_counts())\n",
    "print(df2.p2_dog.value_counts())\n",
    "print(df2.p3_dog.value_counts())"
   ]
  },
  {
   "cell_type": "code",
   "execution_count": 16,
   "metadata": {},
   "outputs": [
    {
     "name": "stdout",
     "output_type": "stream",
     "text": [
      "<class 'pandas.core.frame.DataFrame'>\n",
      "RangeIndex: 2075 entries, 0 to 2074\n",
      "Data columns (total 12 columns):\n",
      "tweet_id    2075 non-null int64\n",
      "jpg_url     2075 non-null object\n",
      "img_num     2075 non-null int64\n",
      "p1          2075 non-null object\n",
      "p1_conf     2075 non-null float64\n",
      "p1_dog      2075 non-null bool\n",
      "p2          2075 non-null object\n",
      "p2_conf     2075 non-null float64\n",
      "p2_dog      2075 non-null bool\n",
      "p3          2075 non-null object\n",
      "p3_conf     2075 non-null float64\n",
      "p3_dog      2075 non-null bool\n",
      "dtypes: bool(3), float64(3), int64(2), object(4)\n",
      "memory usage: 152.1+ KB\n"
     ]
    }
   ],
   "source": [
    "df2.info()"
   ]
  },
  {
   "cell_type": "code",
   "execution_count": 17,
   "metadata": {},
   "outputs": [
    {
     "name": "stdout",
     "output_type": "stream",
     "text": [
      "golden_retriever      150\n",
      "Labrador_retriever    100\n",
      "Pembroke               89\n",
      "Chihuahua              83\n",
      "pug                    57\n",
      "Name: p1, dtype: int64\n",
      "Labrador_retriever    104\n",
      "golden_retriever       92\n",
      "Cardigan               73\n",
      "Chihuahua              44\n",
      "Pomeranian             42\n",
      "Name: p2, dtype: int64\n",
      "Labrador_retriever    79\n",
      "Chihuahua             58\n",
      "golden_retriever      48\n",
      "Eskimo_dog            38\n",
      "kelpie                35\n",
      "Name: p3, dtype: int64\n"
     ]
    }
   ],
   "source": [
    "# I would like to look at what particular dog breeds appear multiple times.  This may be useful in our analysis.\n",
    "print(df2.p1.value_counts()[0:5])\n",
    "print(df2.p2.value_counts()[0:5])\n",
    "print(df2.p3.value_counts()[0:5])"
   ]
  },
  {
   "cell_type": "code",
   "execution_count": 18,
   "metadata": {},
   "outputs": [
    {
     "data": {
      "text/plain": [
       "2075"
      ]
     },
     "execution_count": 18,
     "metadata": {},
     "output_type": "execute_result"
    }
   ],
   "source": [
    "# Note that all tweet_id's in this DataFrame are unique.\n",
    "df2.tweet_id.nunique()"
   ]
  },
  {
   "cell_type": "code",
   "execution_count": 19,
   "metadata": {},
   "outputs": [
    {
     "data": {
      "text/html": [
       "<div>\n",
       "<style scoped>\n",
       "    .dataframe tbody tr th:only-of-type {\n",
       "        vertical-align: middle;\n",
       "    }\n",
       "\n",
       "    .dataframe tbody tr th {\n",
       "        vertical-align: top;\n",
       "    }\n",
       "\n",
       "    .dataframe thead th {\n",
       "        text-align: right;\n",
       "    }\n",
       "</style>\n",
       "<table border=\"1\" class=\"dataframe\">\n",
       "  <thead>\n",
       "    <tr style=\"text-align: right;\">\n",
       "      <th></th>\n",
       "      <th>tweet_id</th>\n",
       "      <th>jpg_url</th>\n",
       "      <th>img_num</th>\n",
       "      <th>p1</th>\n",
       "      <th>p1_conf</th>\n",
       "      <th>p1_dog</th>\n",
       "      <th>p2</th>\n",
       "      <th>p2_conf</th>\n",
       "      <th>p2_dog</th>\n",
       "      <th>p3</th>\n",
       "      <th>p3_conf</th>\n",
       "      <th>p3_dog</th>\n",
       "    </tr>\n",
       "  </thead>\n",
       "  <tbody>\n",
       "    <tr>\n",
       "      <th>0</th>\n",
       "      <td>666020888022790149</td>\n",
       "      <td>https://pbs.twimg.com/media/CT4udn0WwAA0aMy.jpg</td>\n",
       "      <td>1</td>\n",
       "      <td>Welsh_springer_spaniel</td>\n",
       "      <td>0.465074</td>\n",
       "      <td>True</td>\n",
       "      <td>collie</td>\n",
       "      <td>0.156665</td>\n",
       "      <td>True</td>\n",
       "      <td>Shetland_sheepdog</td>\n",
       "      <td>0.061428</td>\n",
       "      <td>True</td>\n",
       "    </tr>\n",
       "    <tr>\n",
       "      <th>1</th>\n",
       "      <td>666029285002620928</td>\n",
       "      <td>https://pbs.twimg.com/media/CT42GRgUYAA5iDo.jpg</td>\n",
       "      <td>1</td>\n",
       "      <td>redbone</td>\n",
       "      <td>0.506826</td>\n",
       "      <td>True</td>\n",
       "      <td>miniature_pinscher</td>\n",
       "      <td>0.074192</td>\n",
       "      <td>True</td>\n",
       "      <td>Rhodesian_ridgeback</td>\n",
       "      <td>0.072010</td>\n",
       "      <td>True</td>\n",
       "    </tr>\n",
       "    <tr>\n",
       "      <th>2</th>\n",
       "      <td>666033412701032449</td>\n",
       "      <td>https://pbs.twimg.com/media/CT4521TWwAEvMyu.jpg</td>\n",
       "      <td>1</td>\n",
       "      <td>German_shepherd</td>\n",
       "      <td>0.596461</td>\n",
       "      <td>True</td>\n",
       "      <td>malinois</td>\n",
       "      <td>0.138584</td>\n",
       "      <td>True</td>\n",
       "      <td>bloodhound</td>\n",
       "      <td>0.116197</td>\n",
       "      <td>True</td>\n",
       "    </tr>\n",
       "    <tr>\n",
       "      <th>3</th>\n",
       "      <td>666044226329800704</td>\n",
       "      <td>https://pbs.twimg.com/media/CT5Dr8HUEAA-lEu.jpg</td>\n",
       "      <td>1</td>\n",
       "      <td>Rhodesian_ridgeback</td>\n",
       "      <td>0.408143</td>\n",
       "      <td>True</td>\n",
       "      <td>redbone</td>\n",
       "      <td>0.360687</td>\n",
       "      <td>True</td>\n",
       "      <td>miniature_pinscher</td>\n",
       "      <td>0.222752</td>\n",
       "      <td>True</td>\n",
       "    </tr>\n",
       "    <tr>\n",
       "      <th>4</th>\n",
       "      <td>666049248165822465</td>\n",
       "      <td>https://pbs.twimg.com/media/CT5IQmsXIAAKY4A.jpg</td>\n",
       "      <td>1</td>\n",
       "      <td>miniature_pinscher</td>\n",
       "      <td>0.560311</td>\n",
       "      <td>True</td>\n",
       "      <td>Rottweiler</td>\n",
       "      <td>0.243682</td>\n",
       "      <td>True</td>\n",
       "      <td>Doberman</td>\n",
       "      <td>0.154629</td>\n",
       "      <td>True</td>\n",
       "    </tr>\n",
       "  </tbody>\n",
       "</table>\n",
       "</div>"
      ],
      "text/plain": [
       "             tweet_id                                          jpg_url  \\\n",
       "0  666020888022790149  https://pbs.twimg.com/media/CT4udn0WwAA0aMy.jpg   \n",
       "1  666029285002620928  https://pbs.twimg.com/media/CT42GRgUYAA5iDo.jpg   \n",
       "2  666033412701032449  https://pbs.twimg.com/media/CT4521TWwAEvMyu.jpg   \n",
       "3  666044226329800704  https://pbs.twimg.com/media/CT5Dr8HUEAA-lEu.jpg   \n",
       "4  666049248165822465  https://pbs.twimg.com/media/CT5IQmsXIAAKY4A.jpg   \n",
       "\n",
       "   img_num                      p1   p1_conf  p1_dog                  p2  \\\n",
       "0        1  Welsh_springer_spaniel  0.465074    True              collie   \n",
       "1        1                 redbone  0.506826    True  miniature_pinscher   \n",
       "2        1         German_shepherd  0.596461    True            malinois   \n",
       "3        1     Rhodesian_ridgeback  0.408143    True             redbone   \n",
       "4        1      miniature_pinscher  0.560311    True          Rottweiler   \n",
       "\n",
       "    p2_conf  p2_dog                   p3   p3_conf  p3_dog  \n",
       "0  0.156665    True    Shetland_sheepdog  0.061428    True  \n",
       "1  0.074192    True  Rhodesian_ridgeback  0.072010    True  \n",
       "2  0.138584    True           bloodhound  0.116197    True  \n",
       "3  0.360687    True   miniature_pinscher  0.222752    True  \n",
       "4  0.243682    True             Doberman  0.154629    True  "
      ]
     },
     "execution_count": 19,
     "metadata": {},
     "output_type": "execute_result"
    }
   ],
   "source": [
    "df2.head()"
   ]
  },
  {
   "cell_type": "markdown",
   "metadata": {},
   "source": [
    "### Data Gathering, Part 3: Retweets and Likes via Twitter API"
   ]
  },
  {
   "cell_type": "code",
   "execution_count": 19,
   "metadata": {},
   "outputs": [],
   "source": [
    "import tweepy\n",
    "consumer_key = 'yIAEcJfJ7uPrQKnI0zD8e6nMP'\n",
    "consumer_secret = '9oVI1iwvHuVWhaejSIAurNzN5MXPr4L7nphuKjm1B2eEOngNwp'\n",
    "access_token = '3220892162-QGX3QS3oRxQufzvDupEcz7EvfA2LnoQCgDchZDj'\n",
    "access_secret = 'DrZ05DvXJ9GpEgLvfekloraCqBC80zFXghMpUiTfnoazG'\n",
    "\n",
    "auth = tweepy.OAuthHandler(consumer_key, consumer_secret)\n",
    "auth.set_access_token(access_token, access_secret)\n",
    "\n",
    "api = tweepy.API(auth)"
   ]
  },
  {
   "cell_type": "markdown",
   "metadata": {},
   "source": [
    "The following StackOverflow link was helpful for obtaining likes and retweets:\n",
    "\n",
    "https://stackoverflow.com/questions/45761253/how-do-i-ge-tthe-number-of-likes-on-a-tweet-via-tweepy"
   ]
  },
  {
   "cell_type": "code",
   "execution_count": 10,
   "metadata": {},
   "outputs": [
    {
     "name": "stdout",
     "output_type": "stream",
     "text": [
      "499 2532 \n",
      "\n",
      "47 125 \n",
      "\n"
     ]
    }
   ],
   "source": [
    "# samples:\n",
    "tweet0 = api.get_status(df2['tweet_id'][0])\n",
    "tweet1 = api.get_status(df2['tweet_id'][1])\n",
    "print(tweet0.retweet_count, tweet0.favorite_count, '\\n')\n",
    "print(tweet1.retweet_count, tweet1.favorite_count, '\\n')"
   ]
  },
  {
   "cell_type": "markdown",
   "metadata": {},
   "source": [
    "The following sections of code pull the counts of retweets and favorites for the Tweet ID's in our Image Predictions file.  I found it necessary to write multiple iterations of the same code in order to pull the data little by little and avoid a rate limit error from the Twitter API."
   ]
  },
  {
   "cell_type": "code",
   "execution_count": 11,
   "metadata": {},
   "outputs": [],
   "source": [
    "retweet_list1 = []\n",
    "for i in df2['tweet_id'][0:300]:\n",
    "    try:\n",
    "        tweet_info = api.get_status(i)\n",
    "        retweet_list1.append(tweet_info.retweet_count)\n",
    "    except:\n",
    "        retweet_list1.append(0)"
   ]
  },
  {
   "cell_type": "code",
   "execution_count": 13,
   "metadata": {},
   "outputs": [],
   "source": [
    "retweet_list2 = []\n",
    "for i in df2['tweet_id'][300:600]:\n",
    "    try:\n",
    "        tweet_info = api.get_status(i)\n",
    "        retweet_list2.append(tweet_info.retweet_count)\n",
    "    except:\n",
    "        retweet_list2.append(0)"
   ]
  },
  {
   "cell_type": "code",
   "execution_count": 22,
   "metadata": {},
   "outputs": [],
   "source": [
    "retweet_list3 = []\n",
    "for i in df2['tweet_id'][600:900]:\n",
    "    try:\n",
    "        tweet_info = api.get_status(i)\n",
    "        retweet_list3.append(tweet_info.retweet_count)\n",
    "    except:\n",
    "        retweet_list3.append(0)"
   ]
  },
  {
   "cell_type": "code",
   "execution_count": 28,
   "metadata": {},
   "outputs": [],
   "source": [
    "retweet_list4 = []\n",
    "for i in df2['tweet_id'][900:1200]:\n",
    "    try:\n",
    "        tweet_info = api.get_status(i)\n",
    "        retweet_list4.append(tweet_info.retweet_count)\n",
    "    except:\n",
    "        retweet_list4.append(0)"
   ]
  },
  {
   "cell_type": "code",
   "execution_count": 33,
   "metadata": {},
   "outputs": [],
   "source": [
    "retweet_list5 = []\n",
    "for i in df2['tweet_id'][1200:1500]:\n",
    "    try:\n",
    "        tweet_info = api.get_status(i)\n",
    "        retweet_list5.append(tweet_info.retweet_count)\n",
    "    except:\n",
    "        retweet_list5.append(0)"
   ]
  },
  {
   "cell_type": "code",
   "execution_count": 39,
   "metadata": {},
   "outputs": [],
   "source": [
    "retweet_list6 = []\n",
    "for i in df2['tweet_id'][1500:1800]:\n",
    "    try:\n",
    "        tweet_info = api.get_status(i)\n",
    "        retweet_list6.append(tweet_info.retweet_count)\n",
    "    except:\n",
    "        retweet_list6.append(0)"
   ]
  },
  {
   "cell_type": "code",
   "execution_count": 50,
   "metadata": {},
   "outputs": [],
   "source": [
    "retweet_list7 = []\n",
    "for i in df2['tweet_id'][1800:]:\n",
    "    try:\n",
    "        tweet_info = api.get_status(i)\n",
    "        retweet_list7.append(tweet_info.retweet_count)\n",
    "    except:\n",
    "        retweet_list7.append(0)"
   ]
  },
  {
   "cell_type": "code",
   "execution_count": 61,
   "metadata": {},
   "outputs": [],
   "source": [
    "retweet_complete = retweet_list1 + retweet_list2 + retweet_list3 + retweet_list4 + retweet_list5 + retweet_list6 + \\\n",
    "    retweet_list7\n",
    "# pd.to_excel('')"
   ]
  },
  {
   "cell_type": "code",
   "execution_count": 59,
   "metadata": {},
   "outputs": [],
   "source": [
    "# this list is created as a separate section of code in order to avoid exceeding the rate limtit\n",
    "favorite_list1 = []\n",
    "for i in df2['tweet_id'][0:300]:\n",
    "    try:\n",
    "        tweet_info = api.get_status(i)\n",
    "        favorite_list1.append(tweet_info.favorite_count)\n",
    "    except:\n",
    "        favorite_list1.append(0)"
   ]
  },
  {
   "cell_type": "code",
   "execution_count": 64,
   "metadata": {},
   "outputs": [],
   "source": [
    "favorite_list2 = []\n",
    "for i in df2['tweet_id'][300:600]:\n",
    "    try:\n",
    "        tweet_info = api.get_status(i)\n",
    "        favorite_list2.append(tweet_info.favorite_count)\n",
    "    except:\n",
    "        favorite_list2.append(0)"
   ]
  },
  {
   "cell_type": "code",
   "execution_count": 68,
   "metadata": {},
   "outputs": [],
   "source": [
    "favorite_list3 = []\n",
    "for i in df2['tweet_id'][600:900]:\n",
    "    try:\n",
    "        tweet_info = api.get_status(i)\n",
    "        favorite_list3.append(tweet_info.favorite_count)\n",
    "    except:\n",
    "        favorite_list3.append(0)"
   ]
  },
  {
   "cell_type": "code",
   "execution_count": 70,
   "metadata": {},
   "outputs": [],
   "source": [
    "favorite_list4 = []\n",
    "for i in df2['tweet_id'][900:1200]:\n",
    "    try:\n",
    "        tweet_info = api.get_status(i)\n",
    "        favorite_list4.append(tweet_info.favorite_count)\n",
    "    except:\n",
    "        favorite_list4.append(0)"
   ]
  },
  {
   "cell_type": "code",
   "execution_count": 103,
   "metadata": {},
   "outputs": [],
   "source": [
    "favorite_list5 = []\n",
    "for i in df2['tweet_id'][1200:1500]:\n",
    "    try:\n",
    "        tweet_info = api.get_status(i)\n",
    "        favorite_list5.append(tweet_info.favorite_count)\n",
    "    except:\n",
    "        favorite_list5.append(0)"
   ]
  },
  {
   "cell_type": "code",
   "execution_count": 95,
   "metadata": {},
   "outputs": [],
   "source": [
    "favorite_list6 = []\n",
    "for i in df2['tweet_id'][1500:1800]:\n",
    "    try:\n",
    "        tweet_info = api.get_status(i)\n",
    "        favorite_list6.append(tweet_info.favorite_count)\n",
    "    except:\n",
    "        favorite_list6.append(0)"
   ]
  },
  {
   "cell_type": "code",
   "execution_count": 109,
   "metadata": {},
   "outputs": [],
   "source": [
    "favorite_list7 = []\n",
    "for i in df2['tweet_id'][1800:]:\n",
    "    try:\n",
    "        tweet_info = api.get_status(i)\n",
    "        favorite_list7.append(tweet_info.favorite_count)\n",
    "    except:\n",
    "        favorite_list7.append(0)"
   ]
  },
  {
   "cell_type": "code",
   "execution_count": 111,
   "metadata": {},
   "outputs": [],
   "source": [
    "favorites_complete = favorite_list1 + favorite_list2 + favorite_list3 + favorite_list4 + favorite_list5 + \\\n",
    "    favorite_list6 + favorite_list7"
   ]
  },
  {
   "cell_type": "code",
   "execution_count": 134,
   "metadata": {},
   "outputs": [],
   "source": [
    "df3 = pd.DataFrame({'tweet_id': df2['tweet_id'], 'retweet_count': retweet_complete, 'favorite_count': favorites_complete})"
   ]
  },
  {
   "cell_type": "code",
   "execution_count": 135,
   "metadata": {},
   "outputs": [
    {
     "data": {
      "text/plain": [
       "(2075, 3)"
      ]
     },
     "execution_count": 135,
     "metadata": {},
     "output_type": "execute_result"
    }
   ],
   "source": [
    "df3.shape"
   ]
  },
  {
   "cell_type": "code",
   "execution_count": 65,
   "metadata": {},
   "outputs": [
    {
     "data": {
      "text/html": [
       "<div>\n",
       "<style scoped>\n",
       "    .dataframe tbody tr th:only-of-type {\n",
       "        vertical-align: middle;\n",
       "    }\n",
       "\n",
       "    .dataframe tbody tr th {\n",
       "        vertical-align: top;\n",
       "    }\n",
       "\n",
       "    .dataframe thead th {\n",
       "        text-align: right;\n",
       "    }\n",
       "</style>\n",
       "<table border=\"1\" class=\"dataframe\">\n",
       "  <thead>\n",
       "    <tr style=\"text-align: right;\">\n",
       "      <th></th>\n",
       "      <th>tweet_id</th>\n",
       "      <th>retweet_count</th>\n",
       "      <th>favorite_count</th>\n",
       "    </tr>\n",
       "  </thead>\n",
       "  <tbody>\n",
       "    <tr>\n",
       "      <th>2070</th>\n",
       "      <td>891327558926688256</td>\n",
       "      <td>9130</td>\n",
       "      <td>39484</td>\n",
       "    </tr>\n",
       "    <tr>\n",
       "      <th>2071</th>\n",
       "      <td>891689557279858688</td>\n",
       "      <td>8428</td>\n",
       "      <td>41290</td>\n",
       "    </tr>\n",
       "    <tr>\n",
       "      <th>2072</th>\n",
       "      <td>891815181378084864</td>\n",
       "      <td>4054</td>\n",
       "      <td>24537</td>\n",
       "    </tr>\n",
       "    <tr>\n",
       "      <th>2073</th>\n",
       "      <td>892177421306343424</td>\n",
       "      <td>6122</td>\n",
       "      <td>32588</td>\n",
       "    </tr>\n",
       "    <tr>\n",
       "      <th>2074</th>\n",
       "      <td>892420643555336192</td>\n",
       "      <td>8289</td>\n",
       "      <td>37949</td>\n",
       "    </tr>\n",
       "  </tbody>\n",
       "</table>\n",
       "</div>"
      ],
      "text/plain": [
       "                tweet_id  retweet_count  favorite_count\n",
       "2070  891327558926688256           9130           39484\n",
       "2071  891689557279858688           8428           41290\n",
       "2072  891815181378084864           4054           24537\n",
       "2073  892177421306343424           6122           32588\n",
       "2074  892420643555336192           8289           37949"
      ]
     },
     "execution_count": 65,
     "metadata": {},
     "output_type": "execute_result"
    }
   ],
   "source": [
    "df3.tail()"
   ]
  },
  {
   "cell_type": "markdown",
   "metadata": {},
   "source": [
    "Note that the retweet and favorite data will be stored in an Excel sheet so that the code above does not need to be rerun each time this Jupyter Notebook is closed and reopened."
   ]
  },
  {
   "cell_type": "code",
   "execution_count": 137,
   "metadata": {},
   "outputs": [],
   "source": [
    "df3.to_excel('retweet_output.xlsx', index=False)"
   ]
  },
  {
   "cell_type": "code",
   "execution_count": 20,
   "metadata": {},
   "outputs": [],
   "source": [
    "df3 = pd.read_excel('retweet_output.xlsx')"
   ]
  },
  {
   "cell_type": "markdown",
   "metadata": {},
   "source": [
    "### Data Cleaning"
   ]
  },
  {
   "cell_type": "code",
   "execution_count": 21,
   "metadata": {},
   "outputs": [],
   "source": [
    "df1_clean = df1.copy()\n",
    "df2_clean = df2.copy()\n",
    "df3_clean = df3.copy()"
   ]
  },
  {
   "cell_type": "markdown",
   "metadata": {},
   "source": [
    "Cleaning step 1: Convert tweet_id in all three DataFrames to a string"
   ]
  },
  {
   "cell_type": "code",
   "execution_count": 22,
   "metadata": {},
   "outputs": [],
   "source": [
    "df1_clean['tweet_id'] = df1_clean['tweet_id'].astype(str)\n",
    "df2_clean['tweet_id'] = df2_clean['tweet_id'].astype(str)\n",
    "df3_clean['tweet_id'] = df3_clean['tweet_id'].astype(str)"
   ]
  },
  {
   "cell_type": "markdown",
   "metadata": {},
   "source": [
    "Cleaning step 2: Convert 'retweeted' columns in df1 to a strings"
   ]
  },
  {
   "cell_type": "code",
   "execution_count": 23,
   "metadata": {},
   "outputs": [],
   "source": [
    "df1_clean['retweeted_status_id'] = df1_clean['retweeted_status_id'].astype(str)\n",
    "df1_clean['retweeted_status_user_id'] = df1_clean['retweeted_status_user_id'].astype(str)"
   ]
  },
  {
   "cell_type": "markdown",
   "metadata": {},
   "source": [
    "Cleaning step 3: Convert timestamps from a string to a time format"
   ]
  },
  {
   "cell_type": "code",
   "execution_count": 24,
   "metadata": {},
   "outputs": [],
   "source": [
    "df1_clean['timestamp'] = pd.to_datetime(df1_clean['timestamp'])\n",
    "df1_clean['retweeted_status_timestamp'] = pd.to_datetime(df1_clean['retweeted_status_timestamp'])"
   ]
  },
  {
   "cell_type": "markdown",
   "metadata": {},
   "source": [
    "Cleaning step 4: Convert image number from an integer to a string"
   ]
  },
  {
   "cell_type": "code",
   "execution_count": 25,
   "metadata": {},
   "outputs": [],
   "source": [
    "df2_clean['img_num'] = df2_clean['img_num'].astype(str)"
   ]
  },
  {
   "cell_type": "markdown",
   "metadata": {},
   "source": [
    "Cleaning step 5: Update some of the names in the 'name' column"
   ]
  },
  {
   "cell_type": "code",
   "execution_count": 26,
   "metadata": {},
   "outputs": [],
   "source": [
    "df1_clean['name'].replace(['a', 'an', 'such', 'the', 'quite'], 'None', inplace=True)"
   ]
  },
  {
   "cell_type": "markdown",
   "metadata": {},
   "source": [
    "Cleaning step 6: Split the weblink section of the 'text' column into its own separate column.  This will be helpful if we search for terms or do any other specific work on the 'text' column."
   ]
  },
  {
   "cell_type": "code",
   "execution_count": 27,
   "metadata": {},
   "outputs": [],
   "source": [
    "df1_clean['tweet_link'] = df1_clean['text'].str.extract(r'(https://t.co/\\w*)')"
   ]
  },
  {
   "cell_type": "code",
   "execution_count": 28,
   "metadata": {},
   "outputs": [],
   "source": [
    "df4 = df1_clean.text.str.partition(' https://')"
   ]
  },
  {
   "cell_type": "code",
   "execution_count": 29,
   "metadata": {},
   "outputs": [
    {
     "data": {
      "text/plain": [
       "(2356, 3)"
      ]
     },
     "execution_count": 29,
     "metadata": {},
     "output_type": "execute_result"
    }
   ],
   "source": [
    "df4.shape"
   ]
  },
  {
   "cell_type": "code",
   "execution_count": 30,
   "metadata": {},
   "outputs": [],
   "source": [
    "df4.rename(columns={0: 'text_section'}, inplace=True)\n",
    "df4.drop([1, 2], axis=1, inplace=True)"
   ]
  },
  {
   "cell_type": "code",
   "execution_count": 31,
   "metadata": {},
   "outputs": [],
   "source": [
    "# Let's add this 'text_section' column to df1.\n",
    "df1_new = pd.concat([df1_clean, df4], axis=1)\n",
    "df1_new.drop('text', axis=1, inplace=True)"
   ]
  },
  {
   "cell_type": "markdown",
   "metadata": {},
   "source": [
    "Cleaning Step 7: Set the rating numerators to a certain minimum and maximum.  After reviewing a number of entries in the 'text' column it appears that the minimum can remain at zero, but the maximum should be set to 15."
   ]
  },
  {
   "cell_type": "code",
   "execution_count": 32,
   "metadata": {},
   "outputs": [
    {
     "name": "stdout",
     "output_type": "stream",
     "text": [
      "0\n",
      "1776\n"
     ]
    }
   ],
   "source": [
    "print(min(df1_new['rating_numerator']))\n",
    "print(max(df1_new['rating_numerator']))"
   ]
  },
  {
   "cell_type": "code",
   "execution_count": 33,
   "metadata": {},
   "outputs": [],
   "source": [
    "rating_num = df1_new['rating_numerator'].tolist()"
   ]
  },
  {
   "cell_type": "code",
   "execution_count": 34,
   "metadata": {},
   "outputs": [],
   "source": [
    "rating_numerator_updated = [min(x, 15) for x in rating_num]"
   ]
  },
  {
   "cell_type": "code",
   "execution_count": 35,
   "metadata": {},
   "outputs": [],
   "source": [
    "df1_new['rating_numerator_clean'] = rating_numerator_updated\n",
    "df1_new.drop(['rating_numerator'], axis=1, inplace=True)"
   ]
  },
  {
   "cell_type": "markdown",
   "metadata": {},
   "source": [
    "Cleaning Step 8: Set the rating denominators to 10."
   ]
  },
  {
   "cell_type": "code",
   "execution_count": 36,
   "metadata": {},
   "outputs": [
    {
     "data": {
      "text/plain": [
       "10     2333\n",
       "11        3\n",
       "50        3\n",
       "80        2\n",
       "20        2\n",
       "2         1\n",
       "16        1\n",
       "40        1\n",
       "70        1\n",
       "15        1\n",
       "90        1\n",
       "110       1\n",
       "120       1\n",
       "130       1\n",
       "150       1\n",
       "170       1\n",
       "7         1\n",
       "0         1\n",
       "Name: rating_denominator, dtype: int64"
      ]
     },
     "execution_count": 36,
     "metadata": {},
     "output_type": "execute_result"
    }
   ],
   "source": [
    "df1_new.rating_denominator.value_counts()"
   ]
  },
  {
   "cell_type": "code",
   "execution_count": 37,
   "metadata": {},
   "outputs": [],
   "source": [
    "rating_denom = df1_new['rating_denominator'].tolist()"
   ]
  },
  {
   "cell_type": "code",
   "execution_count": 38,
   "metadata": {},
   "outputs": [],
   "source": [
    "df1_new['rating_denominator_clean'] = df1_new['rating_denominator'].where(df1_new['rating_denominator'] == 10, 10)"
   ]
  },
  {
   "cell_type": "code",
   "execution_count": 39,
   "metadata": {},
   "outputs": [
    {
     "data": {
      "text/plain": [
       "10    2356\n",
       "Name: rating_denominator_clean, dtype: int64"
      ]
     },
     "execution_count": 39,
     "metadata": {},
     "output_type": "execute_result"
    }
   ],
   "source": [
    "df1_new.rating_denominator_clean.value_counts()"
   ]
  },
  {
   "cell_type": "code",
   "execution_count": 40,
   "metadata": {},
   "outputs": [],
   "source": [
    "df1_new.drop('rating_denominator', axis=1, inplace=True)"
   ]
  },
  {
   "cell_type": "markdown",
   "metadata": {},
   "source": [
    "Cleaning Step 9: Obtain correct tweet_id's.  The tweet_id's in the 'tweet_id' column of the twitter-archive-enhanced are incomplete.  In order to join or merge our data frames on the tweet_id column we will need to have consistency in this column."
   ]
  },
  {
   "cell_type": "code",
   "execution_count": 41,
   "metadata": {},
   "outputs": [],
   "source": [
    "df1_new['tweet_id'] = df1_new['expanded_urls'].str.extract(r'(\\d{18})')"
   ]
  },
  {
   "cell_type": "markdown",
   "metadata": {},
   "source": [
    "Cleaning Step 10: Let's see if we can make some updates to the 'name' column since there are a number of cases where the dog's name can be found in the 'text' column but not the name column.  At the very least I would like to see if the dog is named or not since that will be useful in our analysis later."
   ]
  },
  {
   "cell_type": "code",
   "execution_count": 42,
   "metadata": {},
   "outputs": [],
   "source": [
    "name_in_text = []\n",
    "\n",
    "for text in range(df1_new.shape[0]):\n",
    "    try:\n",
    "        # what are we searching for?\n",
    "        word1 = re.compile(r'name(.*)')\n",
    "        # where are we searching?\n",
    "        mo1 = word1.search(df1_new.text_section[text])\n",
    "        name1 = mo1.group()\n",
    "        name_in_text.append(name1)\n",
    "    except:\n",
    "        name_in_text.append('')"
   ]
  },
  {
   "cell_type": "code",
   "execution_count": 43,
   "metadata": {},
   "outputs": [],
   "source": [
    "df1_new['name2'] = name_in_text"
   ]
  },
  {
   "cell_type": "code",
   "execution_count": 44,
   "metadata": {},
   "outputs": [],
   "source": [
    "has_name = []\n",
    "\n",
    "for i in range(df1_new.shape[0]):\n",
    "    if (df1_new['name'][i] == 'None') & (df1_new['name2'][i] == ''):\n",
    "        has_name.append('No')\n",
    "    else:\n",
    "        has_name.append('Yes')"
   ]
  },
  {
   "cell_type": "code",
   "execution_count": 45,
   "metadata": {},
   "outputs": [],
   "source": [
    "df1_new['dog_has_name'] = has_name"
   ]
  },
  {
   "cell_type": "code",
   "execution_count": 46,
   "metadata": {},
   "outputs": [
    {
     "data": {
      "text/plain": [
       "Yes    1571\n",
       "No      785\n",
       "Name: dog_has_name, dtype: int64"
      ]
     },
     "execution_count": 46,
     "metadata": {},
     "output_type": "execute_result"
    }
   ],
   "source": [
    "df1_new['dog_has_name'].value_counts()"
   ]
  },
  {
   "cell_type": "code",
   "execution_count": 47,
   "metadata": {},
   "outputs": [],
   "source": [
    "df1_new.drop('name2', axis=1, inplace=True)"
   ]
  },
  {
   "cell_type": "markdown",
   "metadata": {},
   "source": [
    "#### Tidiness step 1:\n",
    "Combine the 'doggo', 'floofer', 'pupper' and 'puppo' columns into a single column."
   ]
  },
  {
   "cell_type": "code",
   "execution_count": 48,
   "metadata": {},
   "outputs": [],
   "source": [
    "df1_new['dog_labels'] = df1_new['doggo'] + df1_new['floofer'] + df1_new['pupper'] + df1_new['puppo']"
   ]
  },
  {
   "cell_type": "code",
   "execution_count": 50,
   "metadata": {},
   "outputs": [
    {
     "data": {
      "text/plain": [
       "NoneNoneNoneNone        1976\n",
       "NoneNonepupperNone       245\n",
       "doggoNoneNoneNone         83\n",
       "NoneNoneNonepuppo         29\n",
       "doggoNonepupperNone       12\n",
       "NoneflooferNoneNone        9\n",
       "doggoNoneNonepuppo         1\n",
       "doggoflooferNoneNone       1\n",
       "Name: dog_labels, dtype: int64"
      ]
     },
     "execution_count": 50,
     "metadata": {},
     "output_type": "execute_result"
    }
   ],
   "source": [
    "df1_new['dog_labels'].value_counts()"
   ]
  },
  {
   "cell_type": "code",
   "execution_count": 51,
   "metadata": {},
   "outputs": [],
   "source": [
    "df1_new['dog_labels'] = df1_new.dog_labels.str.split('None')"
   ]
  },
  {
   "cell_type": "code",
   "execution_count": 52,
   "metadata": {},
   "outputs": [],
   "source": [
    "df1_new['dog_labels'] = df1_new.dog_labels.apply(','.join)"
   ]
  },
  {
   "cell_type": "markdown",
   "metadata": {},
   "source": [
    "The following Stackoverflow article was helpful:\n",
    "https://stackoverflow.com/questions/37347725/converting-a-panda-df-list-into-a-string"
   ]
  },
  {
   "cell_type": "code",
   "execution_count": 53,
   "metadata": {},
   "outputs": [],
   "source": [
    "df1_new['dog_labels'] = df1_new.dog_labels.str.strip(',')"
   ]
  },
  {
   "cell_type": "code",
   "execution_count": 54,
   "metadata": {},
   "outputs": [],
   "source": [
    "df1_new['dog_labels'] = np.where(df1_new['dog_labels'] == 'doggo,,puppo', 'doggo and puppo', df1_new['dog_labels'])\n",
    "df1_new['dog_labels'] = np.where(df1_new['dog_labels'] == 'doggo,pupper', 'doggo and pupper', df1_new['dog_labels'])\n",
    "df1_new['dog_labels'] = np.where(df1_new['dog_labels'] == 'doggofloofer', 'doggo and floofer', df1_new['dog_labels'])"
   ]
  },
  {
   "cell_type": "code",
   "execution_count": 55,
   "metadata": {},
   "outputs": [
    {
     "data": {
      "text/plain": [
       "                     1976\n",
       "pupper                245\n",
       "doggo                  83\n",
       "puppo                  29\n",
       "doggo and pupper       12\n",
       "floofer                 9\n",
       "doggo and puppo         1\n",
       "doggo and floofer       1\n",
       "Name: dog_labels, dtype: int64"
      ]
     },
     "execution_count": 55,
     "metadata": {},
     "output_type": "execute_result"
    }
   ],
   "source": [
    "# verification step\n",
    "df1_new.dog_labels.value_counts()"
   ]
  },
  {
   "cell_type": "code",
   "execution_count": 56,
   "metadata": {},
   "outputs": [],
   "source": [
    "df1_new.drop(['doggo', 'floofer', 'pupper', 'puppo'], axis=1, inplace=True)"
   ]
  },
  {
   "cell_type": "markdown",
   "metadata": {},
   "source": [
    "#### Tidiness step 2:\n",
    "Combine 3 DataFrames into 1"
   ]
  },
  {
   "cell_type": "code",
   "execution_count": 57,
   "metadata": {},
   "outputs": [
    {
     "name": "stdout",
     "output_type": "stream",
     "text": [
      "(2356, 16)\n",
      "(2075, 12)\n",
      "(2075, 3)\n"
     ]
    }
   ],
   "source": [
    "print(df1_new.shape)\n",
    "print(df2_clean.shape)\n",
    "print(df3_clean.shape)"
   ]
  },
  {
   "cell_type": "code",
   "execution_count": 58,
   "metadata": {},
   "outputs": [],
   "source": [
    "df2_clean.sort_values('tweet_id', inplace=True)"
   ]
  },
  {
   "cell_type": "code",
   "execution_count": 59,
   "metadata": {},
   "outputs": [],
   "source": [
    "df3_clean.rename(columns={'tweet_id': 'tweet_id2'}, inplace=True)"
   ]
  },
  {
   "cell_type": "code",
   "execution_count": 60,
   "metadata": {},
   "outputs": [],
   "source": [
    "df3_clean.sort_values('tweet_id2', inplace=True)"
   ]
  },
  {
   "cell_type": "code",
   "execution_count": 61,
   "metadata": {},
   "outputs": [],
   "source": [
    "df5 = pd.concat([df2_clean, df3_clean], axis=1)"
   ]
  },
  {
   "cell_type": "code",
   "execution_count": 62,
   "metadata": {},
   "outputs": [],
   "source": [
    "# Check to make sure that the first fifteen digits of the tweet_id are equal in all rows.\n",
    "id_check = []\n",
    "for a in range(df2_clean.shape[0]):\n",
    "    if df5.tweet_id[a][0:15] == df5.tweet_id2[a][0:15]:\n",
    "        id_check.append('OK')\n",
    "    else:\n",
    "        id_check.append('no_match')"
   ]
  },
  {
   "cell_type": "code",
   "execution_count": 63,
   "metadata": {},
   "outputs": [],
   "source": [
    "df5['tweet_id_check'] = id_check"
   ]
  },
  {
   "cell_type": "code",
   "execution_count": 64,
   "metadata": {},
   "outputs": [
    {
     "data": {
      "text/plain": [
       "OK    2075\n",
       "Name: tweet_id_check, dtype: int64"
      ]
     },
     "execution_count": 64,
     "metadata": {},
     "output_type": "execute_result"
    }
   ],
   "source": [
    "df5.tweet_id_check.value_counts()"
   ]
  },
  {
   "cell_type": "code",
   "execution_count": 65,
   "metadata": {},
   "outputs": [],
   "source": [
    "df5.drop('tweet_id_check', axis=1, inplace=True)"
   ]
  },
  {
   "cell_type": "code",
   "execution_count": 66,
   "metadata": {},
   "outputs": [],
   "source": [
    "df1_new.sort_values('tweet_id', ascending=True, inplace=True)"
   ]
  },
  {
   "cell_type": "code",
   "execution_count": 67,
   "metadata": {},
   "outputs": [
    {
     "name": "stdout",
     "output_type": "stream",
     "text": [
      "2355    666020888022790149\n",
      "2354    666029285002620928\n",
      "2353    666033412701032449\n",
      "2352    666044226329800704\n",
      "2351    666049248165822465\n",
      "Name: tweet_id, dtype: object\n",
      "0    666020888022790149\n",
      "1    666029285002620928\n",
      "2    666033412701032449\n",
      "3    666044226329800704\n",
      "4    666049248165822465\n",
      "Name: tweet_id, dtype: object\n"
     ]
    }
   ],
   "source": [
    "# Let's do a visual check to see that the first few tweet id's match up before merging the DataFrames.\n",
    "print(df1_new.tweet_id.head())\n",
    "print(df5.tweet_id.head())"
   ]
  },
  {
   "cell_type": "code",
   "execution_count": 68,
   "metadata": {},
   "outputs": [],
   "source": [
    "df6 = pd.merge(df1_new, df5, on='tweet_id', how='inner', indicator=True)"
   ]
  },
  {
   "cell_type": "code",
   "execution_count": 69,
   "metadata": {},
   "outputs": [
    {
     "data": {
      "text/plain": [
       "(2138, 31)"
      ]
     },
     "execution_count": 69,
     "metadata": {},
     "output_type": "execute_result"
    }
   ],
   "source": [
    "df6.shape"
   ]
  },
  {
   "cell_type": "code",
   "execution_count": 70,
   "metadata": {},
   "outputs": [
    {
     "name": "stdout",
     "output_type": "stream",
     "text": [
      "144\n"
     ]
    }
   ],
   "source": [
    "print(df6.tweet_id.duplicated().sum())"
   ]
  },
  {
   "cell_type": "markdown",
   "metadata": {},
   "source": [
    "#### Note: df6 will be our master dataset for analysis and visualization"
   ]
  },
  {
   "cell_type": "code",
   "execution_count": 71,
   "metadata": {},
   "outputs": [],
   "source": [
    "df6.to_csv('master_dataset.csv', index=False)"
   ]
  },
  {
   "cell_type": "markdown",
   "metadata": {},
   "source": [
    "### Data Analysis, Part 1: Relationship between Ratings and Number of Likes (the favorite_count)."
   ]
  },
  {
   "cell_type": "code",
   "execution_count": 72,
   "metadata": {},
   "outputs": [
    {
     "name": "stdout",
     "output_type": "stream",
     "text": [
      "(1994, 31)\n"
     ]
    }
   ],
   "source": [
    "# Let's make a scatterplot to view the relationship between a dog's rating and the number of likes it received.\n",
    "# First we need to remove the 144 duplicate tweets from our dataset.\n",
    "df6A = df6.drop_duplicates('tweet_id', keep='last')\n",
    "print(df6A.shape)"
   ]
  },
  {
   "cell_type": "markdown",
   "metadata": {},
   "source": [
    "The following Stack Overflow article was helpful in setting up a trendline: \n",
    "\n",
    "https://stackoverflow.com/questions/41635448/how-can-i-draw-scatter-trend-line-on-matplot-python-pandas?noredirect=1"
   ]
  },
  {
   "cell_type": "code",
   "execution_count": 73,
   "metadata": {},
   "outputs": [
    {
     "data": {
      "image/png": "[encoded data removed]",
      "text/plain": [
       "<Figure size 432x288 with 1 Axes>"
      ]
     },
     "metadata": {
      "needs_background": "light"
     },
     "output_type": "display_data"
    }
   ],
   "source": [
    "x = df6A.rating_numerator_clean\n",
    "y = df6A.favorite_count\n",
    "plt.scatter(x, y)\n",
    "plt.title('Scatter Plot of Favorite Count for Different Ratings')\n",
    "plt.xlabel('Rating (out of 10)')\n",
    "plt.ylabel('Favorite Count')\n",
    "\n",
    "z = np.polyfit(x, y, 1)\n",
    "p = np.poly1d(z)\n",
    "plt.plot(x, p(x), \"r--\")\n",
    "\n",
    "plt.show()"
   ]
  },
  {
   "cell_type": "markdown",
   "metadata": {},
   "source": [
    "<font color=blue> The scatterplot above indicates that, in general, tweets with a higher dog rating received more likes."
   ]
  },
  {
   "cell_type": "markdown",
   "metadata": {},
   "source": [
    "### Data Analysis, Part 2: Named Dogs vs Unnamed Dogs"
   ]
  },
  {
   "cell_type": "markdown",
   "metadata": {},
   "source": [
    "My impression is that it is easier for viewers to connect with a dog with a name, so we will test to see if they have more likes on average.\n",
    "\n",
    "As with Part 1 of our data analysis we should use df6A so that duplicates are removed.\n",
    "\n",
    "Item 10 in the data cleaning section identifies whether or not the dog has a name."
   ]
  },
  {
   "cell_type": "code",
   "execution_count": 74,
   "metadata": {},
   "outputs": [],
   "source": [
    "yes_name = df6A.query(\"dog_has_name == 'Yes'\")['rating_numerator_clean'].mean()\n",
    "no_name = df6A.query(\"dog_has_name == 'No'\")['rating_numerator_clean'].mean()\n",
    "\n",
    "# next we need the averages so we can take the sum using a groupby and then dividing by the variables above"
   ]
  },
  {
   "cell_type": "code",
   "execution_count": 75,
   "metadata": {},
   "outputs": [
    {
     "name": "stdout",
     "output_type": "stream",
     "text": [
      "10.710021321961621\n",
      "10.270868824531517\n"
     ]
    }
   ],
   "source": [
    "print(yes_name)\n",
    "print(no_name)"
   ]
  },
  {
   "cell_type": "markdown",
   "metadata": {},
   "source": [
    "<font color=blue>\n",
    "These two averages are quite close so it is reasonable to conclude that the presence of a name in the text of the tweet does NOT have a meaningful impact on how many favorites a tweet receives."
   ]
  },
  {
   "cell_type": "markdown",
   "metadata": {},
   "source": [
    "### Data Analysis, Part 3: A Look at the Use of the Dog Label Terms"
   ]
  },
  {
   "cell_type": "markdown",
   "metadata": {},
   "source": [
    "For this last analysis section I would like to get a general comparison at how often the terms 'doggo', 'floofer', 'puppo' and 'pupper' are used in the 'text column and how often they are used in the labels columns that was included with the data."
   ]
  },
  {
   "cell_type": "code",
   "execution_count": 76,
   "metadata": {},
   "outputs": [],
   "source": [
    "df6A_rows = df6A.shape[0]\n",
    "doggo_in_text = []\n",
    "floofer_in_text = []\n",
    "pupper_in_text = []\n",
    "puppo_in_text = []\n",
    "empty_list = []\n",
    "label_list = []\n",
    "\n",
    "for text in range(df6A_rows):\n",
    "    try:\n",
    "        # what are we searching for?\n",
    "        word1 = re.compile(r'doggo\\s')\n",
    "        # where are we searching?\n",
    "        finding1 = word1.findall(df6A.text_section[text])\n",
    "        label_list.append(finding1)\n",
    "        word2 = re.compile(r'floofer\\s')\n",
    "        finding2 = word2.findall(df6A.text_section[text])\n",
    "        label_list.append(finding2)\n",
    "        word3 = re.compile(r'pupper\\s')\n",
    "        finding3 = word3.findall(df6A.text_section[text])\n",
    "        label_list.append(finding3)\n",
    "        word4 = re.compile(r'puppo\\s')\n",
    "        finding4 = word4.findall(df6A.text_section[text])\n",
    "        label_list.append(finding4)\n",
    "    except:\n",
    "        empty_list.append('')"
   ]
  },
  {
   "cell_type": "code",
   "execution_count": 77,
   "metadata": {},
   "outputs": [
    {
     "name": "stdout",
     "output_type": "stream",
     "text": [
      "doggo: 40\n",
      "floofer: 0\n",
      "pupper: 75\n",
      "puppo: 5\n"
     ]
    }
   ],
   "source": [
    "print('doggo:', label_list.count(['doggo ']))\n",
    "print('floofer:', label_list.count(['floofer ']))\n",
    "print('pupper:', label_list.count(['pupper ']))\n",
    "print('puppo:', label_list.count(['puppo ']))"
   ]
  },
  {
   "cell_type": "code",
   "execution_count": 78,
   "metadata": {},
   "outputs": [
    {
     "data": {
      "text/plain": [
       "                     1688\n",
       "pupper                203\n",
       "doggo                  63\n",
       "puppo                  22\n",
       "doggo and pupper        9\n",
       "floofer                 7\n",
       "doggo and puppo         1\n",
       "doggo and floofer       1\n",
       "Name: dog_labels, dtype: int64"
      ]
     },
     "execution_count": 78,
     "metadata": {},
     "output_type": "execute_result"
    }
   ],
   "source": [
    "# Let's compare the figures above to the number of times they appears in the labels column.\n",
    "df6A['dog_labels'].value_counts()"
   ]
  },
  {
   "cell_type": "markdown",
   "metadata": {},
   "source": [
    "<font color=blue> Conclusion: These terms appear more often in the dog labels column than they do in the actual text."
   ]
  },
  {
   "cell_type": "markdown",
   "metadata": {},
   "source": [
    "### Data Analysis, Part 4: Dog Breeds and Image Predictions"
   ]
  },
  {
   "cell_type": "markdown",
   "metadata": {},
   "source": [
    "The neural network used to predict the dog breeds often predicted Chihuahua, Labrador retriever, and golden retriever.  Let's compare the accuracy for each of those three breeds on the first two attempts."
   ]
  },
  {
   "cell_type": "code",
   "execution_count": 79,
   "metadata": {},
   "outputs": [
    {
     "name": "stdout",
     "output_type": "stream",
     "text": [
      "True    79\n",
      "Name: p1_dog, dtype: int64\n",
      "True    95\n",
      "Name: p1_dog, dtype: int64\n",
      "True    139\n",
      "Name: p1_dog, dtype: int64\n"
     ]
    }
   ],
   "source": [
    "print(df6A.query(\"p1 == 'Chihuahua'\")['p1_dog'].value_counts())\n",
    "print(df6A.query(\"p1 == 'Labrador_retriever'\")['p1_dog'].value_counts())\n",
    "print(df6A.query(\"p1 == 'golden_retriever'\")['p1_dog'].value_counts())"
   ]
  },
  {
   "cell_type": "code",
   "execution_count": 80,
   "metadata": {},
   "outputs": [
    {
     "name": "stdout",
     "output_type": "stream",
     "text": [
      "True    43\n",
      "Name: p2_dog, dtype: int64\n",
      "True    96\n",
      "Name: p2_dog, dtype: int64\n",
      "True    82\n",
      "Name: p2_dog, dtype: int64\n"
     ]
    }
   ],
   "source": [
    "print(df6A.query(\"p2 == 'Chihuahua'\")['p2_dog'].value_counts())\n",
    "print(df6A.query(\"p2 == 'Labrador_retriever'\")['p2_dog'].value_counts())\n",
    "print(df6A.query(\"p2 == 'golden_retriever'\")['p2_dog'].value_counts())"
   ]
  },
  {
   "cell_type": "markdown",
   "metadata": {},
   "source": [
    "### Data Wrangling Write-up\n",
    "\n",
    "Data cleaning steps 7 and 8 are imperfect in that they do not take into account some special cases.  For example, one particular tweet shows a rating of 20/16 in the 'text' column.  Perhaps ratings like this could be converted to have a denominator of 10 but that would require code that considers a wide variety of cases.  Another alternative might be to simply elminate certain rows where *both* the numerator and the denominator are outside of a normal range.\n",
    "\n",
    "Cleaning item number 9 came to mind only after I realized that the 3 DataFrames could not be joined or merged unless there was consisency in the 'tweet_id' column.  It is important to note that the extract method used is good but it did not capture all tweet_ids since there are rows in which the 'expanded_urls' column did not have the tweet_id in it.  This means that certain data was excluded from our master_dataset but it was a relatively limited number of rows that were lost.\n",
    "\n",
    "For Cleaning item number 10 I ran into certain difficulties in extracting the dog's name from the text column in cases where it was not present in the 'name' column.  Also, I should mention that there three or four cases where the dog's name appears as a noun such as 'not' or 'officially'.  These wer isolated cases so they did not have an impact on Analysis item number 2, which dealt with dog names.\n",
    "\n",
    "For the data tidiness section I had intended to use the \"melt\" method but the presence of multiple lables for the same dog in about 15 cases made it difficult to do so.  The methods I used required more code but provided a clearer solution and kept the data complete.\n",
    "\n",
    "The last item to note is that there were a number of cases where I found it difficult to use vectorization so I opted for a for-loop instead.  I understand that this dataset was relatively small so this was not a problem.  With a larger dataset then vectorization would be preferable."
   ]
  },
  {
   "cell_type": "markdown",
   "metadata": {},
   "source": [
    "### Other Conclusions and Observations\n",
    "\n",
    "There were a number of unique cases within this dataset that were not always easy to account for unless 1) substantial amounts of code were written to account for those unique cases or 2) many manual updates were made to account for specific cases.  This did not, however, have a major impact on the conclusions and observations that were made in the analysis section at the end of this report.  Using 1994 unique tweets was sufficient to give a good idea of some of the averages and trends within the data.\n",
    "\n",
    "There are some specific items that would require a larger dataset in order provide better credibility.  For example, the data is adequate for some conclusions in Data Analysis item 4 but a dataset would likely allow for a larger number of predictions for each breed of dog and therefore lend better credibility to this analysis.  I found it a little hard to believe that the model accurately predicted the dog breed 100% of the time for Chihuahua, Labrador retriever and golden retriever.  Also, there seemed to be some contradiction; if the dog was accurately predicted to be one breed then how could it be also accurately deemed to be another?  Either the dogs are often a mix of various breeds or this is an area for further investigation and explanation."
   ]
  }
 ],
 "metadata": {
  "kernelspec": {
   "display_name": "Python 3",
   "language": "python",
   "name": "python3"
  },
  "language_info": {
   "codemirror_mode": {
    "name": "ipython",
    "version": 3
   },
   "file_extension": ".py",
   "mimetype": "text/x-python",
   "name": "python",
   "nbconvert_exporter": "python",
   "pygments_lexer": "ipython3",
   "version": "3.6.7"
  }
 },
 "nbformat": 4,
 "nbformat_minor": 2
}
